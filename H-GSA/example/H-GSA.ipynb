{
 "cells": [
  {
   "cell_type": "markdown",
   "metadata": {},
   "source": [
    "This is a notebook with an example of the simulations carried out in https://arxiv.org/abs/2312.17146. We will use the Hydrogen molecule for this example."
   ]
  },
  {
   "cell_type": "code",
   "execution_count": 10,
   "metadata": {},
   "outputs": [],
   "source": [
    "#import libraries\n",
    "import tequila as tq\n",
    "import numpy as np\n",
    "import pickle\n",
    "from matplotlib import pyplot as plt"
   ]
  },
  {
   "cell_type": "code",
   "execution_count": 2,
   "metadata": {},
   "outputs": [
    {
     "name": "stdout",
     "output_type": "stream",
     "text": [
      "We are considering the following configurations: [0.5, 0.601, 0.741, 0.881, 1.0, 1.5, 2.0, 2.5, 3.0, 3.5, 4.0]\n"
     ]
    }
   ],
   "source": [
    "#initialize a list of bond-lengths we will consider here\n",
    "equilibrium_bl = 0.741\n",
    "bond_lengths = [0.601, 0.741, 0.881]\n",
    "bond_lengths.extend([i*0.5 for i in range(1,9)])\n",
    "bond_lengths.sort()\n",
    "\n",
    "print(\"We are considering the following configurations:\", bond_lengths)"
   ]
  },
  {
   "cell_type": "code",
   "execution_count": 3,
   "metadata": {},
   "outputs": [
    {
     "name": "stdout",
     "output_type": "stream",
     "text": [
      "The Hamiltonian at bond length - 0.5 - is: +0.3798+0.2139Z(0)+0.2139Z(0)Z(1)-0.3691Z(2)-0.3691Z(1)Z(2)Z(3)+0.1799Z(1)+0.0422Y(0)Z(1)Y(2)Z(3)+0.0422X(0)Z(1)X(2)+0.0422X(0)Z(1)X(2)Z(3)+0.0422Y(0)Z(1)Y(2)+0.1346Z(0)Z(2)+0.1768Z(0)Z(1)Z(2)Z(3)+0.1768Z(0)Z(1)Z(2)+0.1346Z(0)Z(2)Z(3)+0.1862Z(1)Z(3)\n",
      "The groups at bond length - 0.5 - is:\n",
      "\t Commuting groups: [[+0.3798, +0.2139Z(0), +0.2139Z(0)Z(1), -0.3691Z(2), -0.3691Z(1)Z(2)Z(3), +0.1799Z(1), +0.1346Z(0)Z(2), +0.1768Z(0)Z(1)Z(2)Z(3), +0.1768Z(0)Z(1)Z(2), +0.1346Z(0)Z(2)Z(3), +0.1862Z(1)Z(3)], [+0.0422Y(0)Z(1)Y(2)Z(3), +0.0422X(0)Z(1)X(2), +0.0422X(0)Z(1)X(2)Z(3), +0.0422Y(0)Z(1)Y(2)]]\n",
      "\n",
      "Clifford Circuit: \n",
      "                  ┌──┐\n",
      "0: ───H───────@─────@────Z───────────\n",
      "              │     │\n",
      "1: ───H───H───X────H┼────────────────\n",
      "                    │\n",
      "2: ───H───H─────────X────H───H───Z───\n",
      "\n",
      "3: ───H───H───Z──────────────────────\n",
      "                  └──┘\n",
      "Clifford Circuit: \n",
      "The Hamiltonian at bond length - 0.601 - is: +0.1303+0.1946Z(0)+0.1946Z(0)Z(1)-0.2986Z(2)-0.2986Z(1)Z(2)Z(3)+0.1753Z(1)+0.0434Y(0)Z(1)Y(2)Z(3)+0.0434X(0)Z(1)X(2)+0.0434X(0)Z(1)X(2)Z(3)+0.0434Y(0)Z(1)Y(2)+0.1287Z(0)Z(2)+0.1722Z(0)Z(1)Z(2)Z(3)+0.1722Z(0)Z(1)Z(2)+0.1287Z(0)Z(2)Z(3)+0.1811Z(1)Z(3)\n",
      "The groups at bond length - 0.601 - is:\n",
      "\t Commuting groups: [[+0.1303, +0.1946Z(0), +0.1946Z(0)Z(1), -0.2986Z(2), -0.2986Z(1)Z(2)Z(3), +0.1753Z(1), +0.1287Z(0)Z(2), +0.1722Z(0)Z(1)Z(2)Z(3), +0.1722Z(0)Z(1)Z(2), +0.1287Z(0)Z(2)Z(3), +0.1811Z(1)Z(3)], [+0.0434Y(0)Z(1)Y(2)Z(3), +0.0434X(0)Z(1)X(2), +0.0434X(0)Z(1)X(2)Z(3), +0.0434Y(0)Z(1)Y(2)]]\n",
      "\n",
      "Clifford Circuit: \n",
      "                  ┌──┐\n",
      "0: ───H───────@─────@────Z───────────\n",
      "              │     │\n",
      "1: ───H───H───X────H┼────────────────\n",
      "                    │\n",
      "2: ───H───H─────────X────H───H───Z───\n",
      "\n",
      "3: ───H───H───Z──────────────────────\n",
      "                  └──┘\n",
      "Clifford Circuit: \n",
      "The Hamiltonian at bond length - 0.741 - is: -0.0984+0.1713Z(0)+0.1713Z(0)Z(1)-0.2230Z(2)-0.2230Z(1)Z(2)Z(3)+0.1686Z(1)+0.0453Y(0)Z(1)Y(2)Z(3)+0.0453X(0)Z(1)X(2)+0.0453X(0)Z(1)X(2)Z(3)+0.0453Y(0)Z(1)Y(2)+0.1206Z(0)Z(2)+0.1659Z(0)Z(1)Z(2)Z(3)+0.1659Z(0)Z(1)Z(2)+0.1206Z(0)Z(2)Z(3)+0.1744Z(1)Z(3)\n",
      "The groups at bond length - 0.741 - is:\n",
      "\t Commuting groups: [[-0.0984, +0.1713Z(0), +0.1713Z(0)Z(1), -0.2230Z(2), -0.2230Z(1)Z(2)Z(3), +0.1686Z(1), +0.1206Z(0)Z(2), +0.1659Z(0)Z(1)Z(2)Z(3), +0.1659Z(0)Z(1)Z(2), +0.1206Z(0)Z(2)Z(3), +0.1744Z(1)Z(3)], [+0.0453Y(0)Z(1)Y(2)Z(3), +0.0453X(0)Z(1)X(2), +0.0453X(0)Z(1)X(2)Z(3), +0.0453Y(0)Z(1)Y(2)]]\n",
      "\n",
      "Clifford Circuit: \n",
      "                  ┌──┐\n",
      "0: ───H───────@─────@────Z───────────\n",
      "              │     │\n",
      "1: ───H───H───X────H┼────────────────\n",
      "                    │\n",
      "2: ───H───H─────────X────H───H───Z───\n",
      "\n",
      "3: ───H───H───Z──────────────────────\n",
      "                  └──┘\n",
      "Clifford Circuit: \n",
      "The Hamiltonian at bond length - 0.881 - is: -0.2437+0.1515Z(0)+0.1515Z(0)Z(1)-0.1671Z(2)-0.1671Z(1)Z(2)Z(3)+0.1620Z(1)+0.0474Y(0)Z(1)Y(2)Z(3)+0.0474X(0)Z(1)X(2)+0.0474X(0)Z(1)X(2)Z(3)+0.0474Y(0)Z(1)Y(2)+0.1127Z(0)Z(2)+0.1600Z(0)Z(1)Z(2)Z(3)+0.1600Z(0)Z(1)Z(2)+0.1127Z(0)Z(2)Z(3)+0.1682Z(1)Z(3)\n",
      "The groups at bond length - 0.881 - is:\n",
      "\t Commuting groups: [[-0.2437, +0.1515Z(0), +0.1515Z(0)Z(1), -0.1671Z(2), -0.1671Z(1)Z(2)Z(3), +0.1620Z(1), +0.1127Z(0)Z(2), +0.1600Z(0)Z(1)Z(2)Z(3), +0.1600Z(0)Z(1)Z(2), +0.1127Z(0)Z(2)Z(3), +0.1682Z(1)Z(3)], [+0.0474Y(0)Z(1)Y(2)Z(3), +0.0474X(0)Z(1)X(2), +0.0474X(0)Z(1)X(2)Z(3), +0.0474Y(0)Z(1)Y(2)]]\n",
      "\n",
      "Clifford Circuit: \n",
      "                  ┌──┐\n",
      "0: ───H───────@─────@────Z───────────\n",
      "              │     │\n",
      "1: ───H───H───X────H┼────────────────\n",
      "                    │\n",
      "2: ───H───H─────────X────H───H───Z───\n",
      "\n",
      "3: ───H───H───Z──────────────────────\n",
      "                  └──┘\n",
      "Clifford Circuit: \n",
      "The Hamiltonian at bond length - 1.0 - is: -0.3276+0.1372Z(0)+0.1372Z(0)Z(1)-0.1304Z(2)-0.1304Z(1)Z(2)Z(3)+0.1566Z(1)+0.0492Y(0)Z(1)Y(2)Z(3)+0.0492X(0)Z(1)X(2)+0.0492X(0)Z(1)X(2)Z(3)+0.0492Y(0)Z(1)Y(2)+0.1062Z(0)Z(2)+0.1554Z(0)Z(1)Z(2)Z(3)+0.1554Z(0)Z(1)Z(2)+0.1062Z(0)Z(2)Z(3)+0.1633Z(1)Z(3)\n",
      "The groups at bond length - 1.0 - is:\n",
      "\t Commuting groups: [[-0.3276, +0.1372Z(0), +0.1372Z(0)Z(1), -0.1304Z(2), -0.1304Z(1)Z(2)Z(3), +0.1566Z(1), +0.1062Z(0)Z(2), +0.1554Z(0)Z(1)Z(2)Z(3), +0.1554Z(0)Z(1)Z(2), +0.1062Z(0)Z(2)Z(3), +0.1633Z(1)Z(3)], [+0.0492Y(0)Z(1)Y(2)Z(3), +0.0492X(0)Z(1)X(2), +0.0492X(0)Z(1)X(2)Z(3), +0.0492Y(0)Z(1)Y(2)]]\n",
      "\n",
      "Clifford Circuit: \n",
      "                  ┌──┐\n",
      "0: ───H───────@─────@────Z───────────\n",
      "              │     │\n",
      "1: ───H───H───X────H┼────────────────\n",
      "                    │\n",
      "2: ───H───H─────────X────H───H───Z───\n",
      "\n",
      "3: ───H───H───Z──────────────────────\n",
      "                  └──┘\n",
      "Clifford Circuit: \n",
      "The Hamiltonian at bond length - 1.5 - is: -0.4918+0.0935Z(0)+0.0935Z(0)Z(1)-0.0356Z(2)-0.0356Z(1)Z(2)Z(3)+0.1382Z(1)+0.0574Y(0)Z(1)Y(2)Z(3)+0.0574X(0)Z(1)X(2)+0.0574X(0)Z(1)X(2)Z(3)+0.0574Y(0)Z(1)Y(2)+0.0825Z(0)Z(2)+0.1399Z(0)Z(1)Z(2)Z(3)+0.1399Z(0)Z(1)Z(2)+0.0825Z(0)Z(2)Z(3)+0.1459Z(1)Z(3)\n",
      "The groups at bond length - 1.5 - is:\n",
      "\t Commuting groups: [[-0.4918, +0.0935Z(0), +0.0935Z(0)Z(1), -0.0356Z(2), -0.0356Z(1)Z(2)Z(3), +0.1382Z(1), +0.0825Z(0)Z(2), +0.1399Z(0)Z(1)Z(2)Z(3), +0.1399Z(0)Z(1)Z(2), +0.0825Z(0)Z(2)Z(3), +0.1459Z(1)Z(3)], [+0.0574Y(0)Z(1)Y(2)Z(3), +0.0574X(0)Z(1)X(2), +0.0574X(0)Z(1)X(2)Z(3), +0.0574Y(0)Z(1)Y(2)]]\n",
      "\n",
      "Clifford Circuit: \n",
      "                  ┌──┐\n",
      "0: ───H───────@─────@────Z───────────\n",
      "              │     │\n",
      "1: ───H───H───X────H┼────────────────\n",
      "                    │\n",
      "2: ───H───H─────────X────H───H───Z───\n",
      "\n",
      "3: ───H───H───Z──────────────────────\n",
      "                  └──┘\n",
      "Clifford Circuit: \n",
      "The Hamiltonian at bond length - 2.0 - is: -0.5339+0.0673Z(0)+0.0673Z(0)Z(1)+0.0067Z(2)+0.0067Z(1)Z(2)Z(3)+0.1274Z(1)+0.0648Y(0)Z(1)Y(2)Z(3)+0.0648X(0)Z(1)X(2)+0.0648X(0)Z(1)X(2)Z(3)+0.0648Y(0)Z(1)Y(2)+0.0650Z(0)Z(2)+0.1298Z(0)Z(1)Z(2)Z(3)+0.1298Z(0)Z(1)Z(2)+0.0650Z(0)Z(2)Z(3)+0.1337Z(1)Z(3)\n",
      "The groups at bond length - 2.0 - is:\n",
      "\t Commuting groups: [[-0.5339, +0.0673Z(0), +0.0673Z(0)Z(1), +0.0067Z(2), +0.0067Z(1)Z(2)Z(3), +0.1274Z(1), +0.0650Z(0)Z(2), +0.1298Z(0)Z(1)Z(2)Z(3), +0.1298Z(0)Z(1)Z(2), +0.0650Z(0)Z(2)Z(3), +0.1337Z(1)Z(3)], [+0.0648Y(0)Z(1)Y(2)Z(3), +0.0648X(0)Z(1)X(2), +0.0648X(0)Z(1)X(2)Z(3), +0.0648Y(0)Z(1)Y(2)]]\n",
      "\n",
      "Clifford Circuit: \n",
      "                  ┌──┐\n",
      "0: ───H───────@─────@────Z───────────\n",
      "              │     │\n",
      "1: ───H───H───X────H┼────────────────\n",
      "                    │\n",
      "2: ───H───H─────────X────H───H───Z───\n",
      "\n",
      "3: ───H───H───Z──────────────────────\n",
      "                  └──┘\n",
      "Clifford Circuit: \n",
      "The Hamiltonian at bond length - 2.5 - is: -0.5436+0.0526Z(0)+0.0526Z(0)Z(1)+0.0255Z(2)+0.0255Z(1)Z(2)Z(3)+0.1214Z(1)+0.0706Y(0)Z(1)Y(2)Z(3)+0.0706X(0)Z(1)X(2)+0.0706X(0)Z(1)X(2)Z(3)+0.0706Y(0)Z(1)Y(2)+0.0527Z(0)Z(2)+0.1233Z(0)Z(1)Z(2)Z(3)+0.1233Z(0)Z(1)Z(2)+0.0527Z(0)Z(2)Z(3)+0.1255Z(1)Z(3)\n",
      "The groups at bond length - 2.5 - is:\n",
      "\t Commuting groups: [[-0.5436, +0.0526Z(0), +0.0526Z(0)Z(1), +0.0255Z(2), +0.0255Z(1)Z(2)Z(3), +0.1214Z(1), +0.0527Z(0)Z(2), +0.1233Z(0)Z(1)Z(2)Z(3), +0.1233Z(0)Z(1)Z(2), +0.0527Z(0)Z(2)Z(3), +0.1255Z(1)Z(3)], [+0.0706Y(0)Z(1)Y(2)Z(3), +0.0706X(0)Z(1)X(2), +0.0706X(0)Z(1)X(2)Z(3), +0.0706Y(0)Z(1)Y(2)]]\n",
      "\n",
      "Clifford Circuit: \n",
      "                  ┌──┐\n",
      "0: ───H───────@─────@────Z───────────\n",
      "              │     │\n",
      "1: ───H───H───X────H┼────────────────\n",
      "                    │\n",
      "2: ───H───H─────────X────H───H───Z───\n",
      "\n",
      "3: ───H───H───Z──────────────────────\n",
      "                  └──┘\n",
      "Clifford Circuit: \n",
      "The Hamiltonian at bond length - 3.0 - is: -0.5455+0.0452Z(0)+0.0452Z(0)Z(1)+0.0339Z(2)+0.0339Z(1)Z(2)Z(3)+0.1178Z(1)+0.0748Y(0)Z(1)Y(2)Z(3)+0.0748X(0)Z(1)X(2)+0.0748X(0)Z(1)X(2)Z(3)+0.0748Y(0)Z(1)Y(2)+0.0441Z(0)Z(2)+0.1189Z(0)Z(1)Z(2)Z(3)+0.1189Z(0)Z(1)Z(2)+0.0441Z(0)Z(2)Z(3)+0.1200Z(1)Z(3)\n",
      "The groups at bond length - 3.0 - is:\n",
      "\t Commuting groups: [[-0.5455, +0.0452Z(0), +0.0452Z(0)Z(1), +0.0339Z(2), +0.0339Z(1)Z(2)Z(3), +0.1178Z(1), +0.0441Z(0)Z(2), +0.1189Z(0)Z(1)Z(2)Z(3), +0.1189Z(0)Z(1)Z(2), +0.0441Z(0)Z(2)Z(3), +0.1200Z(1)Z(3)], [+0.0748Y(0)Z(1)Y(2)Z(3), +0.0748X(0)Z(1)X(2), +0.0748X(0)Z(1)X(2)Z(3), +0.0748Y(0)Z(1)Y(2)]]\n",
      "\n",
      "Clifford Circuit: \n",
      "                  ┌──┐\n",
      "0: ───H───────@─────@────Z───────────\n",
      "              │     │\n",
      "1: ───H───H───X────H┼────────────────\n",
      "                    │\n",
      "2: ───H───H─────────X────H───H───Z───\n",
      "\n",
      "3: ───H───H───Z──────────────────────\n",
      "                  └──┘\n",
      "Clifford Circuit: \n",
      "The Hamiltonian at bond length - 3.5 - is: -0.5458+0.0417Z(0)+0.0417Z(0)Z(1)+0.0375Z(2)+0.0375Z(1)Z(2)Z(3)+0.1153Z(1)+0.0779Y(0)Z(1)Y(2)Z(3)+0.0779X(0)Z(1)X(2)+0.0779X(0)Z(1)X(2)Z(3)+0.0779Y(0)Z(1)Y(2)+0.0378Z(0)Z(2)+0.1157Z(0)Z(1)Z(2)Z(3)+0.1157Z(0)Z(1)Z(2)+0.0378Z(0)Z(2)Z(3)+0.1162Z(1)Z(3)\n",
      "The groups at bond length - 3.5 - is:\n",
      "\t Commuting groups: [[-0.5458, +0.0417Z(0), +0.0417Z(0)Z(1), +0.0375Z(2), +0.0375Z(1)Z(2)Z(3), +0.1153Z(1), +0.0378Z(0)Z(2), +0.1157Z(0)Z(1)Z(2)Z(3), +0.1157Z(0)Z(1)Z(2), +0.0378Z(0)Z(2)Z(3), +0.1162Z(1)Z(3)], [+0.0779Y(0)Z(1)Y(2)Z(3), +0.0779X(0)Z(1)X(2), +0.0779X(0)Z(1)X(2)Z(3), +0.0779Y(0)Z(1)Y(2)]]\n",
      "\n",
      "Clifford Circuit: \n",
      "                  ┌──┐\n",
      "0: ───H───────@─────@────Z───────────\n",
      "              │     │\n",
      "1: ───H───H───X────H┼────────────────\n",
      "                    │\n",
      "2: ───H───H─────────X────H───H───Z───\n",
      "\n",
      "3: ───H───H───Z──────────────────────\n",
      "                  └──┘\n",
      "Clifford Circuit: \n",
      "The Hamiltonian at bond length - 4.0 - is: -0.5459+0.0404Z(0)+0.0404Z(0)Z(1)+0.0389Z(2)+0.0389Z(1)Z(2)Z(3)+0.1132Z(1)+0.0803Y(0)Z(1)Y(2)Z(3)+0.0803X(0)Z(1)X(2)+0.0803X(0)Z(1)X(2)Z(3)+0.0803Y(0)Z(1)Y(2)+0.0331Z(0)Z(2)+0.1134Z(0)Z(1)Z(2)Z(3)+0.1134Z(0)Z(1)Z(2)+0.0331Z(0)Z(2)Z(3)+0.1135Z(1)Z(3)\n",
      "The groups at bond length - 4.0 - is:\n",
      "\t Commuting groups: [[-0.5459, +0.0404Z(0), +0.0404Z(0)Z(1), +0.0389Z(2), +0.0389Z(1)Z(2)Z(3), +0.1132Z(1), +0.0331Z(0)Z(2), +0.1134Z(0)Z(1)Z(2)Z(3), +0.1134Z(0)Z(1)Z(2), +0.0331Z(0)Z(2)Z(3), +0.1135Z(1)Z(3)], [+0.0803Y(0)Z(1)Y(2)Z(3), +0.0803X(0)Z(1)X(2), +0.0803X(0)Z(1)X(2)Z(3), +0.0803Y(0)Z(1)Y(2)]]\n",
      "\n",
      "Clifford Circuit: \n",
      "                  ┌──┐\n",
      "0: ───H───────@─────@────Z───────────\n",
      "              │     │\n",
      "1: ───H───H───X────H┼────────────────\n",
      "                    │\n",
      "2: ───H───H─────────X────H───H───Z───\n",
      "\n",
      "3: ───H───H───Z──────────────────────\n",
      "                  └──┘\n",
      "Clifford Circuit: \n"
     ]
    }
   ],
   "source": [
    "#get Hamiltonian and commuting groups for a molecular configuration\n",
    "\n",
    "Hamiltonians = []\n",
    "Graph_circuits = []\n",
    "\n",
    "for bond in bond_lengths:\n",
    "    file = open(\"../Hamiltonians/H2/H2_Hamiltonian_for_bond_length_{0}.pickle\".format(bond),'rb')\n",
    "    mol_Ham = pickle.load(file)\n",
    "    file.close()\n",
    "    \n",
    "    print(\"The Hamiltonian at bond length - {0} - is: {1}\".format(bond, mol_Ham))\n",
    "    \n",
    "    file = open(\"../groups_and_circuits/H2/H2_groups_and_circuits_for_bond_length_{0}.pickle\".format(bond),'rb')\n",
    "    groups, circuits = pickle.load(file)\n",
    "    file.close()\n",
    "    \n",
    "    print(\"The groups at bond length - {0} - is:\".format(bond))\n",
    "    print(\"\\t Commuting groups:\", groups)\n",
    "    for circ in circuits:\n",
    "        print(\"Clifford Circuit:\", tq.draw(circ, backend=\"cirq\"))\n",
    "        ### The CZ-gate is represented as H-CX-H\n",
    "              \n",
    "    Hamiltonians.append(mol_Ham)\n",
    "    Graph_circuits.append(circuits)"
   ]
  },
  {
   "cell_type": "code",
   "execution_count": 4,
   "metadata": {},
   "outputs": [
    {
     "name": "stdout",
     "output_type": "stream",
     "text": [
      "The exact ground state energies of the molecules are: [-1.0551597946880173, -1.1166462657704586, -1.1372744055258712, -1.1237206708647083, -1.1011503301329568, -0.9981493533579184, -0.9486411121296494, -0.9360549199436622, -0.9336318445559841, -0.9332284055492808, -0.9331713618435846]\n"
     ]
    }
   ],
   "source": [
    "#let's calculate the ground state energies of the molecule at the different configurations\n",
    "FCI_eners = []\n",
    "\n",
    "for Ham in Hamiltonians:\n",
    "    v,vv = np.linalg.eigh(Ham.to_matrix())\n",
    "    FCI_eners.append(v[0])\n",
    "    \n",
    "print(\"The exact ground state energies of the molecules are:\", FCI_eners)"
   ]
  },
  {
   "cell_type": "code",
   "execution_count": 5,
   "metadata": {},
   "outputs": [
    {
     "name": "stdout",
     "output_type": "stream",
     "text": [
      "Hartree-Fock energy: [-1.0429962747511712, -1.1014552070447619, -1.1167061372172085, -1.0961661385920694, -1.0661086491853156, -0.9108735543822686, -0.7837926540830397, -0.7029435995786047, -0.6560482510473122, -0.6298201100573617, -0.6148699739991873]\n"
     ]
    }
   ],
   "source": [
    "#Calculating HF energies\n",
    "num_qubits = 4\n",
    "\n",
    "HF_ener = []\n",
    "for Ham in Hamiltonians:\n",
    "    #simulating reference state-prep circuit (in BK basis)\n",
    "    ref = tq.QCircuit()    \n",
    "    ref += tq.gates.X(0)\n",
    "    \n",
    "    Exp = tq.ExpectationValue(U=ref, H= Ham)\n",
    "    energy = tq.simulate(Exp, backend=\"qulacs\")\n",
    "    #print(energy)\n",
    "    HF_ener.append(energy)\n",
    "    \n",
    "    \n",
    "print(\"Hartree-Fock energy:\", HF_ener)"
   ]
  },
  {
   "cell_type": "code",
   "execution_count": 6,
   "metadata": {},
   "outputs": [],
   "source": [
    "g_seed = 1\n",
    "\n",
    "def random_number(num_param):\n",
    "    \"\"\"\n",
    "    This function calls the numpy.random.randn function with\n",
    "    a new seed every time, and returns the values\n",
    "    \"\"\"\n",
    "    global g_seed\n",
    "    rand_state = np.random.RandomState(seed = g_seed)\n",
    "    g_seed += int(np.abs(np.random.randn(1)[0]*10) + 1)\n",
    "    return rand_state.randn(num_param)"
   ]
  },
  {
   "cell_type": "code",
   "execution_count": 7,
   "metadata": {},
   "outputs": [
    {
     "name": "stdout",
     "output_type": "stream",
     "text": [
      "Energy from VQE with HGSA: [-1.0551597946876121, -1.1166462657687348, -1.1372744055241077, -1.123720670863859, -1.1011503301316572, -0.998149353356576, -0.9486411121285736, -0.9360549199427564, -0.9336318445555456, -0.9332284055489597, -0.9331713618434956]\n"
     ]
    }
   ],
   "source": [
    "#Now we construct the H-GSA ansatz and carry optimization\n",
    "mean_vqe_eners = []\n",
    "std_vqe_eners = []\n",
    "\n",
    "mean_vqe_errors = []\n",
    "vqe_errors_min = []\n",
    "vqe_errors_max = []\n",
    "\n",
    "for index, (Ham, circuits) in enumerate(zip(Hamiltonians, Graph_circuits)):\n",
    "    \n",
    "    #construct the CCA\n",
    "    HGSA = tq.QCircuit()\n",
    "    \n",
    "    #Add the reference state-prep circuit (in BK basis)\n",
    "    HGSA += tq.gates.X(0)\n",
    "    \n",
    "    #only considering the non-empty circuits\n",
    "    for i, cir in enumerate(circuits[1:]):\n",
    "       \n",
    "        #Add the Clifford circuit\n",
    "        HGSA += cir.dagger()\n",
    "        \n",
    "        #Add the single qubit rotation layer\n",
    "        for qubit in range(num_qubits):\n",
    "            var_1 = tq.Variable(\"th_q{0}_l{1}\".format(qubit, i))\n",
    "            var_2 = tq.Variable(\"ph_q{0}_l{1}\".format(qubit, i))\n",
    "            var_3 = tq.Variable(\"la_q{0}_l{1}\".format(qubit, i))\n",
    "            \n",
    "            HGSA += tq.gates.Rz(var_1, qubit)                \n",
    "            HGSA += tq.gates.Ry(var_2, qubit)\n",
    "            HGSA += tq.gates.Rz(var_3, qubit)                \n",
    "            HGSA += tq.gates.Ry(-1*var_2, qubit)\n",
    "            HGSA += tq.gates.Rz(-1*var_1, qubit)\n",
    "        \n",
    "        #Add the Clifford circuit inverse\n",
    "        HGSA += cir\n",
    "    \n",
    "    energies = []\n",
    "    errors = []\n",
    "    num_samples = 5\n",
    "    for samp in range(num_samples):\n",
    "        initial_values = {}\n",
    "\n",
    "        for var_ in HGSA.extract_variables():\n",
    "            if \"th\" in str(var_) or \"ph\" in str(var_):\n",
    "                initial_values[var_] = random_number(1)[0]\n",
    "            else:\n",
    "                initial_values[var_] = 1e-6\n",
    "        \n",
    "    \n",
    "        Exp = tq.ExpectationValue(U=HGSA, H= Ham)\n",
    "        result = tq.minimize(objective=Exp,initial_values = initial_values, tol= 1e-6, method=\"bfgs\" ,backend=\"qulacs\", silent=\"True\")\n",
    "        energy = result.energy\n",
    "        #print(energy)\n",
    "        energies.append(energy)\n",
    "        errors.append(energy - FCI_eners[index])\n",
    "    \n",
    "    mean_vqe_eners.append(np.mean(energies))\n",
    "    std_vqe_eners.append(np.std(energies))\n",
    "    \n",
    "    mean_vqe_errors.append(np.mean(errors))\n",
    "    vqe_errors_min.append(np.min(errors))\n",
    "    vqe_errors_max.append(np.max(errors))\n",
    "        \n",
    "    \n",
    "print(\"Energy from VQE with HGSA:\", mean_vqe_eners)"
   ]
  },
  {
   "cell_type": "code",
   "execution_count": 8,
   "metadata": {},
   "outputs": [
    {
     "data": {
      "image/png": "[encoded data removed]",
      "text/plain": [
       "<Figure size 720x432 with 1 Axes>"
      ]
     },
     "metadata": {
      "needs_background": "light"
     },
     "output_type": "display_data"
    }
   ],
   "source": [
    "plt.figure(figsize=(10,6))\n",
    "plt.tight_layout()\n",
    "plt.rc('legend',fontsize=18)\n",
    "plt.plot(bond_lengths, FCI_eners, marker=\"o\", markersize=6, linestyle=\"--\", linewidth=4, label=\"FCI Energy\")\n",
    "plt.plot(bond_lengths, HF_ener, marker=\"o\", markersize=6, linestyle=\"--\", linewidth=3, label=\"HF\")\n",
    "plt.errorbar(bond_lengths, mean_vqe_eners, std_vqe_eners, marker=\"X\", markersize=3, linestyle=\"--\", linewidth=2, label=\"VQE Energy\")\n",
    "plt.xlabel('Bond Length', fontsize=18)\n",
    "plt.ylabel('Energy', fontsize=18)\n",
    "plt.xticks(fontsize=14)\n",
    "plt.yticks(fontsize=14)\n",
    "plt.legend()\n",
    "plt.tight_layout()\n",
    "plt.show()"
   ]
  },
  {
   "cell_type": "code",
   "execution_count": 9,
   "metadata": {},
   "outputs": [
    {
     "data": {
      "image/png": "[encoded data removed]",
      "text/plain": [
       "<Figure size 720x432 with 1 Axes>"
      ]
     },
     "metadata": {
      "needs_background": "light"
     },
     "output_type": "display_data"
    }
   ],
   "source": [
    "plt.figure(figsize=(10,6))\n",
    "plt.tight_layout()\n",
    "plt.rc('legend',fontsize=18)\n",
    "plt.ylim(1e-14, 1e-3)\n",
    "plt.yscale(\"log\")\n",
    "plt.axhline(y=1e-3, color='r', linestyle='--',linewidth=4)\n",
    "plt.plot(bond_lengths, mean_vqe_errors, marker=\"X\", markersize=5, linestyle=\"--\", linewidth=3, label=\"Error in VQE Energy\")\n",
    "plt.fill_between(bond_lengths, vqe_errors_min, vqe_errors_max, alpha=0.2, color ='orange')\n",
    "plt.xlabel('Bond Length', fontsize=18)\n",
    "plt.ylabel('Error in Energy', fontsize=18)\n",
    "plt.xticks(fontsize=14)\n",
    "plt.yticks(fontsize=14)\n",
    "plt.legend()\n",
    "plt.tight_layout()\n",
    "plt.show()"
   ]
  },
  {
   "cell_type": "code",
   "execution_count": null,
   "metadata": {},
   "outputs": [],
   "source": []
  }
 ],
 "metadata": {
  "kernelspec": {
   "display_name": "Python 3",
   "language": "python",
   "name": "python3"
  },
  "language_info": {
   "codemirror_mode": {
    "name": "ipython",
    "version": 3
   },
   "file_extension": ".py",
   "mimetype": "text/x-python",
   "name": "python",
   "nbconvert_exporter": "python",
   "pygments_lexer": "ipython3",
   "version": "3.7.10"
  }
 },
 "nbformat": 4,
 "nbformat_minor": 4
}
